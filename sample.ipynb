{
 "cells": [
  {
   "cell_type": "markdown",
   "id": "a75ead7b",
   "metadata": {},
   "source": [
    "# Parallel Programming "
   ]
  },
  {
   "cell_type": "markdown",
   "id": "409a5e41",
   "metadata": {},
   "source": [
    "## MPI"
   ]
  },
  {
   "cell_type": "markdown",
   "id": "16d04a1c",
   "metadata": {},
   "source": [
    "*Flesh out introduction here*"
   ]
  },
  {
   "cell_type": "code",
   "execution_count": null,
   "id": "efc92c61",
   "metadata": {},
   "outputs": [],
   "source": [
    "from mpi4py import MPI \n",
    "import numpy as np \n",
    "import timeit\n",
    "\n",
    "\n",
    "comm = MPI.COMM_WORLD\n",
    "mpi_size = comm.Get_size()\n",
    "mpi_rank = comm.Get_rank()\n",
    "array_size = 100\n",
    "\n",
    "def add():\n",
    "    a = np.arange(array_size)    \n",
    "    a_scattered = np.zeros_like(a)\n",
    "    a_reduced = np.zeros_like(a)\n",
    "    \n",
    "    comm.Scatter(a, a_scattered, root=0)\n",
    "    comm.Reduce(a_scattered, a_reduced, op=MPI.SUM, root=0)\n",
    "    return np.sum(a_reduced)\n",
    "\n",
    "total_time = timeit.timeit(add)\n",
    "print(f'Total time for MPI addition is: {total_time}')"
   ]
  },
  {
   "cell_type": "markdown",
   "id": "c4f4a5e2",
   "metadata": {},
   "source": [
    "## CUDA"
   ]
  },
  {
   "cell_type": "markdown",
   "id": "3f7cb875",
   "metadata": {},
   "source": [
    "*Flesh out introduction here*"
   ]
  },
  {
   "cell_type": "code",
   "execution_count": null,
   "id": "cb315a18",
   "metadata": {},
   "outputs": [],
   "source": [
    "import cupy as cp \n",
    "import timeit \n",
    "\n",
    "array_size = 100\n",
    "\n",
    "def add():\n",
    "    a = cp.arange(array_size) \n",
    "    return cp.sum(a)   \n",
    "\n",
    "total_time = timeit.timeit(add)\n",
    "print(f'Total time for GPU addition is: {total_time}')"
   ]
  }
 ],
 "metadata": {
  "kernelspec": {
   "display_name": "base",
   "language": "python",
   "name": "python3"
  },
  "language_info": {
   "codemirror_mode": {
    "name": "ipython",
    "version": 3
   },
   "file_extension": ".py",
   "mimetype": "text/x-python",
   "name": "python",
   "nbconvert_exporter": "python",
   "pygments_lexer": "ipython3",
   "version": "3.11.8"
  }
 },
 "nbformat": 4,
 "nbformat_minor": 5
}
