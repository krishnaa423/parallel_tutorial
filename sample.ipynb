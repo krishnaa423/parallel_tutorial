{
 "cells": [
  {
   "cell_type": "markdown",
   "id": "a75ead7b",
   "metadata": {},
   "source": [
    "# Parallel Programming "
   ]
  },
  {
   "cell_type": "markdown",
   "id": "409a5e41",
   "metadata": {},
   "source": [
    "## MPI"
   ]
  },
  {
   "cell_type": "markdown",
   "id": "16d04a1c",
   "metadata": {},
   "source": [
    "*Flesh out introduction here*\n",
    "- mpi_rank and mpi_size \n",
    "- scattered_arrays\n",
    "- reduced arrays\n",
    "- play with sizes and timing. \n",
    "- create a graph with time vs array size\n",
    "- create a graph with time vs MPI tasks"
   ]
  },
  {
   "cell_type": "code",
   "execution_count": 1,
   "id": "efc92c61",
   "metadata": {},
   "outputs": [
    {
     "name": "stdout",
     "output_type": "stream",
     "text": [
      "Total time for MPI addition is: 7.157103275999816\n"
     ]
    }
   ],
   "source": [
    "from mpi4py import MPI \n",
    "import numpy as np \n",
    "import timeit\n",
    "\n",
    "\n",
    "comm = MPI.COMM_WORLD\n",
    "mpi_size = comm.Get_size()\n",
    "mpi_rank = comm.Get_rank()\n",
    "array_size = 100\n",
    "\n",
    "def add_cpu():\n",
    "    a = np.arange(array_size)    \n",
    "    a_scattered = np.zeros_like(a)\n",
    "    a_reduced = np.zeros_like(a)\n",
    "    \n",
    "    comm.Scatter(a, a_scattered, root=0)\n",
    "    comm.Reduce(a_scattered, a_reduced, op=MPI.SUM, root=0)\n",
    "    return np.sum(a_reduced)\n",
    "\n",
    "total_time = timeit.timeit(add_cpu)\n",
    "print(f'Total time for MPI addition is: {total_time}')"
   ]
  },
  {
   "cell_type": "code",
   "execution_count": 3,
   "id": "8ac24b65",
   "metadata": {},
   "outputs": [],
   "source": [
    "import matplotlib.pyplot as plt \n",
    "\n",
    "array_sizes = [100, 500, 1000, 10000, 50000, 1000000]\n",
    "times = []\n",
    "\n",
    "for size in array_sizes:\n",
    "    times.append(timeit.timeit(add))\n",
    "    \n",
    "plt.style.use('bmh')\n",
    "plt.plot(array_sizes, times)\n",
    "plt.show()"
   ]
  },
  {
   "cell_type": "markdown",
   "id": "c4f4a5e2",
   "metadata": {},
   "source": [
    "## CUDA"
   ]
  },
  {
   "cell_type": "markdown",
   "id": "3f7cb875",
   "metadata": {},
   "source": [
    "*Flesh out introduction here*\n",
    "- Array on CPU, and array on GPU.\n",
    "- Time vs array size. "
   ]
  },
  {
   "cell_type": "code",
   "execution_count": 2,
   "id": "cb315a18",
   "metadata": {},
   "outputs": [
    {
     "name": "stdout",
     "output_type": "stream",
     "text": [
      "Total time for GPU addition is: 61.88499339000009\n"
     ]
    }
   ],
   "source": [
    "import cupy as cp \n",
    "import timeit \n",
    "\n",
    "array_size = 100\n",
    "\n",
    "def add_gpu():\n",
    "    a = cp.arange(array_size) \n",
    "    return cp.sum(a)   \n",
    "\n",
    "total_time = timeit.timeit(add_gpu)\n",
    "print(f'Total time for GPU addition is: {total_time}')"
   ]
  },
  {
   "cell_type": "code",
   "execution_count": null,
   "id": "a3791fa8",
   "metadata": {},
   "outputs": [],
   "source": [
    "import matplotlib.pyplot as plt \n",
    "\n",
    "array_sizes = [100, 500, 1000, 10000, 50000, 1000000]\n",
    "times = []\n",
    "\n",
    "for size in array_sizes:\n",
    "    times.append(timeit.timeit(add_gpu))\n",
    "    \n",
    "plt.style.use('bmh')\n",
    "plt.plot(array_sizes, times)\n",
    "plt.show()"
   ]
  },
  {
   "cell_type": "markdown",
   "id": "5a433dde",
   "metadata": {},
   "source": [
    "*Other operations maybe: scalar multiply?*"
   ]
  },
  {
   "cell_type": "markdown",
   "id": "c15b173f",
   "metadata": {},
   "source": []
  }
 ],
 "metadata": {
  "kernelspec": {
   "display_name": "base",
   "language": "python",
   "name": "python3"
  },
  "language_info": {
   "codemirror_mode": {
    "name": "ipython",
    "version": 3
   },
   "file_extension": ".py",
   "mimetype": "text/x-python",
   "name": "python",
   "nbconvert_exporter": "python",
   "pygments_lexer": "ipython3",
   "version": "3.11.8"
  }
 },
 "nbformat": 4,
 "nbformat_minor": 5
}
